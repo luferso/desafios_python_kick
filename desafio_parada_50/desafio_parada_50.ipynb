{
 "cells": [
  {
   "cell_type": "markdown",
   "metadata": {},
   "source": [
    "1 - Lendo o arquivo"
   ]
  },
  {
   "cell_type": "code",
   "execution_count": 54,
   "metadata": {},
   "outputs": [],
   "source": [
    "#biblioteca importada para remover acentuação\n",
    "import unidecode\n",
    "\n",
    "nome = \"exagerado_letra.txt\"\n",
    "arquivo = open(nome, \"r\", encoding=\"utf-8\")\n",
    "\n",
    "#salva o texto do arquivo em uma variável\n",
    "conteudo = arquivo.read()\n",
    "#deixa o texto com letras minúsculas\n",
    "conteudo = conteudo.lower()\n",
    "\n",
    "#removendo a acentuação\n",
    "conteudo = unidecode.unidecode(conteudo)\n",
    "\n",
    "\n",
    "#exibe a resposta na tela\n",
    "\n",
    "arquivo.close()"
   ]
  },
  {
   "cell_type": "markdown",
   "metadata": {},
   "source": [
    "2 - Contando as vogais A"
   ]
  },
  {
   "cell_type": "code",
   "execution_count": 59,
   "metadata": {},
   "outputs": [
    {
     "name": "stdout",
     "output_type": "stream",
     "text": [
      "Vezes em que a letra A apareceu: 112\n"
     ]
    }
   ],
   "source": [
    "cont = conteudo.count(\"a\")\n",
    "print(f\"Vezes em que a letra A apareceu: {cont}\")\n",
    "arquivo.close()"
   ]
  },
  {
   "cell_type": "markdown",
   "metadata": {},
   "source": [
    "3 - Contando as vogais E"
   ]
  },
  {
   "cell_type": "code",
   "execution_count": 60,
   "metadata": {},
   "outputs": [
    {
     "name": "stdout",
     "output_type": "stream",
     "text": [
      "Vezes em que a letra E apareceu: 79\n"
     ]
    }
   ],
   "source": [
    "cont = conteudo.count(\"e\")\n",
    "print(f\"Vezes em que a letra E apareceu: {cont}\")\n",
    "arquivo.close()"
   ]
  },
  {
   "cell_type": "markdown",
   "metadata": {},
   "source": [
    "4 - Contando as vogais I"
   ]
  },
  {
   "cell_type": "code",
   "execution_count": 61,
   "metadata": {},
   "outputs": [
    {
     "name": "stdout",
     "output_type": "stream",
     "text": [
      "Vezes em que a letra I apareceu: 33\n"
     ]
    }
   ],
   "source": [
    "cont = conteudo.count(\"i\")\n",
    "print(f\"Vezes em que a letra I apareceu: {cont}\")\n",
    "arquivo.close()"
   ]
  },
  {
   "cell_type": "markdown",
   "metadata": {},
   "source": [
    "5 - Contando as vogais O"
   ]
  },
  {
   "cell_type": "code",
   "execution_count": 62,
   "metadata": {},
   "outputs": [
    {
     "name": "stdout",
     "output_type": "stream",
     "text": [
      "Vezes em que a letra O apareceu: 92\n"
     ]
    }
   ],
   "source": [
    "cont = conteudo.count(\"o\")\n",
    "print(f\"Vezes em que a letra O apareceu: {cont}\")\n",
    "arquivo.close()"
   ]
  },
  {
   "cell_type": "markdown",
   "metadata": {},
   "source": [
    "6 - Contando as vogais U"
   ]
  },
  {
   "cell_type": "code",
   "execution_count": 63,
   "metadata": {},
   "outputs": [
    {
     "name": "stdout",
     "output_type": "stream",
     "text": [
      "Vezes em que a letra U apareceu: 41\n"
     ]
    }
   ],
   "source": [
    "cont = conteudo.count(\"u\")\n",
    "print(f\"Vezes em que a letra U apareceu: {cont}\")\n",
    "arquivo.close()"
   ]
  }
 ],
 "metadata": {
  "kernelspec": {
   "display_name": "Python 3",
   "language": "python",
   "name": "python3"
  },
  "language_info": {
   "codemirror_mode": {
    "name": "ipython",
    "version": 3
   },
   "file_extension": ".py",
   "mimetype": "text/x-python",
   "name": "python",
   "nbconvert_exporter": "python",
   "pygments_lexer": "ipython3",
   "version": "3.12.4"
  }
 },
 "nbformat": 4,
 "nbformat_minor": 2
}
